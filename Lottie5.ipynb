{
 "cells": [
  {
   "cell_type": "markdown",
   "metadata": {},
   "source": [
    "# Lottie5"
   ]
  },
  {
   "cell_type": "markdown",
   "metadata": {},
   "source": [
    "There are probably millions of similar \"pick your winning lottery number\" programs out there - after all, what programmer is not counting on his lottery winnings as his/her retirement fund?\n",
    "\n",
    "Anyway, this was my very first Python program. Using a Jupyter notebook is also probably overkill, but I'm just playing around with Jupyter for the first time as well.\n",
    "\n",
    "This code was meant to pick a Lotto 6/49 ticket. Here goes!"
   ]
  },
  {
   "cell_type": "code",
   "execution_count": 1,
   "metadata": {},
   "outputs": [
    {
     "name": "stdout",
     "output_type": "stream",
     "text": [
      "LOTTIE Says Welcome!\n",
      "LOTTIE will select your winning Lotto 6-49 numbers for you\n"
     ]
    }
   ],
   "source": [
    "import random\n",
    "\n",
    "print(\"LOTTIE Says Welcome!\")\n",
    "print(\"LOTTIE will select your winning Lotto 6-49 numbers for you\")"
   ]
  },
  {
   "cell_type": "code",
   "execution_count": 2,
   "metadata": {},
   "outputs": [],
   "source": [
    "count = 0\n",
    "picks = []\n",
    "\n",
    "def remove_duplicates(lst):\n",
    "    res = []\n",
    "    for x in lst:\n",
    "        if x not in res:\n",
    "            res.append(x)\n",
    "    return res"
   ]
  },
  {
   "cell_type": "code",
   "execution_count": 3,
   "metadata": {},
   "outputs": [],
   "source": [
    "while count <= 5:\n",
    "    pick = random.randint(1, 49)\n",
    "    picks.append(pick)\n",
    "    count += 1"
   ]
  },
  {
   "cell_type": "code",
   "execution_count": 5,
   "metadata": {},
   "outputs": [
    {
     "name": "stdout",
     "output_type": "stream",
     "text": [
      "[13, 22, 33, 40, 41, 42]\n",
      "Good luck!\n"
     ]
    }
   ],
   "source": [
    "my_picks = remove_duplicates(sorted(picks))\n",
    "\n",
    "print(my_picks)\n",
    "print(\"Good luck!\")"
   ]
  }
 ],
 "metadata": {
  "kernelspec": {
   "display_name": "Python 3",
   "language": "python",
   "name": "python3"
  },
  "language_info": {
   "codemirror_mode": {
    "name": "ipython",
    "version": 3
   },
   "file_extension": ".py",
   "mimetype": "text/x-python",
   "name": "python",
   "nbconvert_exporter": "python",
   "pygments_lexer": "ipython3",
   "version": "3.7.1"
  }
 },
 "nbformat": 4,
 "nbformat_minor": 2
}
